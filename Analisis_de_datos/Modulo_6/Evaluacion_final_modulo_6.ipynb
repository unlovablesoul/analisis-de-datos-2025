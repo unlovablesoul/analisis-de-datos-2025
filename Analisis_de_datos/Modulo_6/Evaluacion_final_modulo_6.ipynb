{
 "cells": [
  {
   "cell_type": "markdown",
   "id": "f87d591d",
   "metadata": {},
   "source": [
    "# Actividad\n",
    "Cierta compañía aérea ha requerido de sus servicios profesionales para\n",
    "llevar a cabo un estudio relacionado con la cantidad de pasajeros que\n",
    "llegan al país en vuelos internacionales, dicho estudio tiene relación con\n",
    "la enfermedad de COVID-19. De acuerdo a la información que maneja la\n",
    "compañía, la cantidad de pasajeros que llegan en vuelos internacionales\n",
    "se comporta aproximadamente normal con una media de 120 pasajeros\n",
    "y una varianza de 25. $\\newline$\n",
    "A) Asumiendo que cada día llegan a Santiago 16 vuelos\n",
    "internacionales, determine la probabilidad que durante el año (52\n",
    "semanas) la cantidad total de pasajeros sea de al menos de\n",
    "699500.$\\newline$ \n",
    "B) De acuerdo con registros históricos se sabe que aproximadamente\n",
    "un 7% de los pasajeros son niños. Considerando un potencial de\n",
    "400 pasajeros que llegarían en los próximos días, determine la\n",
    "probabilidad que menos de un 5% sean niños."
   ]
  },
  {
   "cell_type": "code",
   "execution_count": 10,
   "id": "f7292c7b",
   "metadata": {},
   "outputs": [],
   "source": [
    "import numpy as np\n",
    "from scipy.stats import norm\n",
    "import math\n",
    "from scipy import stats"
   ]
  },
  {
   "cell_type": "markdown",
   "id": "eb1c9ad6",
   "metadata": {},
   "source": [
    "### Actividad 1"
   ]
  },
  {
   "cell_type": "code",
   "execution_count": null,
   "id": "02503c37",
   "metadata": {},
   "outputs": [
    {
     "name": "stdout",
     "output_type": "stream",
     "text": [
      "--- Parte a ---\n",
      "Media anual: 698880.00 pasajeros\n",
      "Desviación estándar anual: 381.58\n",
      "Z calculado: 1.6248\n",
      "Probabilidad de ≥ 699,500 pasajeros: 0.052098 o 5.2098%\n",
      "\n",
      "--- Parte b ---\n",
      "Media de niños esperada: 28.00\n",
      "Desviación estándar: 5.10\n",
      "Z calculado: -1.6657\n",
      "Probabilidad de <5% niños: 0.047886 o 4.7886%\n"
     ]
    }
   ],
   "source": [
    "# Anotamos los valores conocidos\n",
    "\n",
    "media_diaria = 120\n",
    "varianza_diaria = 25\n",
    "desviacion_estandar = np.sqrt(varianza_diaria)\n",
    "vuelos_diarios = 16\n",
    "dias_anuales = 52*7\n",
    "\n",
    "# Como nos pide la probabilidad anual, pasamos los datos a valores anuales\n",
    "\n",
    "media_anual = media_diaria*vuelos_diarios*dias_anuales\n",
    "varianza_anual = varianza_diaria*vuelos_diarios*dias_anuales\n",
    "desviacion_anual = np.sqrt(varianza_anual)\n",
    "\n",
    "# Ahora calculamos la probabilidad calculando primeramente el valor de z\n",
    "\n",
    "z = (699500 - media_anual) / desviacion_anual\n",
    "prob_a = 1 - stats.norm.cdf(z)\n",
    "\n",
    "print(\"--- Parte a ---\")\n",
    "print(f\"Media anual: {media_anual:.2f} pasajeros\")\n",
    "print(f\"Desviación estándar anual: {desviacion_anual:.2f}\")\n",
    "print(f\"Z calculado: {z:.4f}\")\n",
    "print(f\"Probabilidad de ≥ 699,500 pasajeros: {prob_a:.6f} o {prob_a*100:.4f}%\")\n",
    "\n",
    "# para el apartado b)\n",
    "\n",
    "n_pasajeros = 400\n",
    "p_ninos = 0.07\n",
    "umbral = 0.05\n",
    "\n",
    "# Luego calculamos los valores que necesitamos\n",
    "\n",
    "media_ninos = n_pasajeros * p_ninos\n",
    "varianza_ninos = n_pasajeros * p_ninos * (1 - p_ninos)\n",
    "desviacion_ninos = np.sqrt(varianza_ninos)\n",
    "\n",
    "z_b = (19.5 - media_ninos) / desviacion_ninos\n",
    "prob_b = stats.norm.cdf(z_b)\n",
    "\n",
    "print(\"\\n--- Parte b ---\")\n",
    "print(f\"Media de niños esperada: {media_ninos:.2f}\") \n",
    "print(f\"Desviación estándar: {desviacion_ninos:.2f}\")\n",
    "print(f\"Z calculado: {z_b:.4f}\")\n",
    "print(f\"Probabilidad de <5% niños: {prob_b:.6f} o {prob_b*100:.4f}%\")\n",
    "\n",
    "\n",
    "# NOTA: el :.4f es para denotar la cantidad de decimales que quise mostrar, en todo los casos fue de 4\n"
   ]
  },
  {
   "cell_type": "markdown",
   "id": "d7abed61",
   "metadata": {},
   "source": [
    "#### Conclusión:\n",
    "Podemos notar que no hay evidencia que permita afirmar que el número total de pasajeros aumentará los 699500.\n",
    "Así como para los niños se rechaza la hipótesis ya que el p encontrado es menor que el nivel de significancia."
   ]
  },
  {
   "cell_type": "markdown",
   "id": "ab658a17",
   "metadata": {},
   "source": [
    "### Actividad 2\n",
    "\n",
    "Una empresa que se dedica a hacer en cuestas se queja de que un agente\n",
    "realiza en promedio 53 encuestas por semana. Se ha introducido una\n",
    "forma más moderna de realizar las encuetas y la empresa quiere evaluar\n",
    "su efectividad. Los números de encuestas realizadas en una semana por\n",
    "una muestra aleatoria de agentes son:\n",
    "\n",
    "| 53 | 57 | 50 | 55 | 58 |\n",
    "|----|----|----|----|----|\n",
    "| 54 | 60 | 52 | 59 | 62 |\n",
    "| 60 | 60 | 51 | 59 |    |\n",
    "\n",
    "En el nivel de significancia 0,05, puede concluirse que la cantidad media\n",
    "de entrevistas realizadas por los agentes es superior a 53 por semana?\n",
    "Evalúe el valor p.\n",
    "\n"
   ]
  },
  {
   "cell_type": "code",
   "execution_count": null,
   "id": "57d28a20",
   "metadata": {},
   "outputs": [
    {
     "name": "stdout",
     "output_type": "stream",
     "text": [
      "--- Estadísticos Descriptivos ---\n",
      "Tamaño de muestra (n): 14\n",
      "Media muestral: 56.43 encuestas/semana\n",
      "Desviación estándar muestral: 3.88\n",
      "Error estándar: 1.04\n",
      "\n",
      "--- Resultados de la Prueba de Hipótesis ---\n",
      "Estadístico t calculado: 3.3087\n",
      "Valor crítico (α=0.05): 1.7709\n",
      "Valor p: 0.002826\n",
      "Conclusión: Rechazamos H₀: Hay evidencia de mejora (media > 53)\n"
     ]
    }
   ],
   "source": [
    "# Anotamos los valores conocidos\n",
    "encuestas = np.array([53, 57, 50, 55, 58, 54, 60, 52, 59, 62, 60, 60, 51, 59])\n",
    "n = len(encuestas)\n",
    "media_historica = 53\n",
    "alfa = 0.05\n",
    "\n",
    "# Calculamos los valores estadísticos necesarios\n",
    "\n",
    "media_muestral = np.mean(encuestas)\n",
    "desviacion_muestra = np.std(encuestas, ddof=1)\n",
    "error_estandar = desviacion_muestra/np.sqrt(n)\n",
    "\n",
    "print(\"--- Estadísticos Descriptivos ---\")\n",
    "print(f\"Tamaño de muestra (n): {n}\")\n",
    "print(f\"Media muestral: {media_muestral:.2f} encuestas/semana\")\n",
    "print(f\"Desviación estándar muestral: {desviacion_muestra:.2f}\")\n",
    "print(f\"Error estándar: {error_estandar:.2f}\")\n",
    " \n",
    " # Luego realizamos una prueba t de Strudent\n",
    " \n",
    "t = (media_muestral - media_historica) / error_estandar\n",
    "grados_libertad = n - 1\n",
    "\n",
    "# Calculamos el valor crítico\n",
    "t_critico = stats.t.ppf(1 - alfa, grados_libertad)\n",
    "\n",
    "# Valor p \n",
    "p_valor = 1 - stats.t.cdf(t, grados_libertad)\n",
    "\n",
    "# Luego tomamos la decisión\n",
    "\n",
    "if t > t_critico:\n",
    "    decision = \"Rechazamos H₀: Hay evidencia de mejora (media > 53)\"\n",
    "else:\n",
    "    decision = \"No rechazamos H₀: No hay evidencia suficiente de mejora\"\n",
    "\n",
    "print(\"\\n--- Resultados de la Prueba de Hipótesis ---\")\n",
    "print(f\"Estadístico t calculado: {t:.4f}\")\n",
    "print(f\"Valor crítico (α=0.05): {t_critico:.4f}\")\n",
    "print(f\"Valor p: {p_valor:.6f}\")\n",
    "print(f\"Conclusión: {decision}\")\n",
    "\n",
    "# NOTA: el :.4f es para denotar la cantidad de decimales que quise mostrar, en todo los casos fue de 4"
   ]
  },
  {
   "cell_type": "markdown",
   "id": "83104570",
   "metadata": {},
   "source": [
    "#### Conclusión\n",
    "Con el nivel de significancia dado (5%) y los cálculos realizados se tiene que la nueva metodología ha aumentado significativamente el número de encuestas promedio"
   ]
  },
  {
   "cell_type": "markdown",
   "id": "993667d2",
   "metadata": {},
   "source": [
    "### Actividad 3\n",
    "Ejercicio 3\n",
    "En el último año, se determinó que el tiempo promedio que los\n",
    "estudiantes pasaron resolviendo un examen fue de 65 minutos, con una\n",
    "desviación estándar de 10 minutos. Este año, se seleccionó una muestra\n",
    "aleatoria de 50 estudiantes, y se encontró que el tiempo promedio que\n",
    "tomaron resolviendo el mismo examen fue de 68 minutos.\n",
    "Considerando que el objetivo es evaluar si hay evidencia suficiente para\n",
    "afirmar que el tiempo promedio ha aumentado este año en comparación\n",
    "con el último, se plantea la siguiente prueba de hipótesis con un nivel de\n",
    "significancia del 5%: $\\newline$\n",
    "• Hipótesis nula (H0): El tiempo promedio este año (μ) es igual al\n",
    "tiempo promedio del año pasado (μ0): μ=μ0 $\\newline$\n",
    "• Hipótesis alternativa (H1): El tiempo promedio este año (μ) es\n",
    "mayor al tiempo promedio del año pasado (μ0): μ>μ0 $\\newline$\n",
    "Se dispone de la desviación estándar poblacional (σ) del año pasado, lo\n",
    "que permite utilizar una prueba Z para la media poblacional.$\\newline$\n",
    "Pregunta:$\\newline$\n",
    "1. Calcule el estadístico de prueba Z utilizando los datos\n",
    "proporcionados.$\\newline$\n",
    "2. ¿Qué conclusión se puede obtener con respecto a las hipótesis nula\n",
    "y alternativa basándose en el valor calculado de Z y el valor crítico\n",
    "correspondiente para un nivel de significancia del 5%?"
   ]
  },
  {
   "cell_type": "code",
   "execution_count": null,
   "id": "471863cf",
   "metadata": {},
   "outputs": [
    {
     "name": "stdout",
     "output_type": "stream",
     "text": [
      "\n",
      "--- Conclusión ---\n",
      "Comparación: Z calculado (1.6248) vs Z crítico (1.6449)\n",
      "Valor p vs alfa: 0.0169 vs 10\n",
      "Decisión: Rechazamos H₀: Hay evidencia de que el tiempo aumentó\n"
     ]
    }
   ],
   "source": [
    "# Definimos las variables que conocemos\n",
    "\n",
    "media_poblacional = 65 # Media poblacional bajo la hipotesis\n",
    "desviacion_poblacional = 10\n",
    "media_muestral_3 = 68\n",
    "tamaño_muestra = 50\n",
    "significancia = 0.05\n",
    "\n",
    "# Ahora calculamos el valor de z\n",
    "\n",
    "error_estandar_3 = desviacion_poblacional/np.sqrt(tamaño_muestra)\n",
    "\n",
    "z_3 = (media_muestral_3 - media_poblacional)/error_estandar_3\n",
    "\n",
    "# Ahora determinamos el valor crítico de z\n",
    "\n",
    "z_critico_3 = stats.norm.ppf(1 - significancia)\n",
    "\n",
    "# Y por último calculamos el valor de p\n",
    "\n",
    "p_valor_3 = 1 - stats.norm.cdf(z_3)\n",
    "\n",
    "# Finalmente escribimos el código para la toma de decision\n",
    "\n",
    "if z_3 > z_critico_3:\n",
    "    decision_3 = \"Rechazamos H₀: Hay evidencia de que el tiempo aumentó\"\n",
    "else:\n",
    "    decision_3 = \"No rechazamos H₀: No hay evidencia suficiente de aumento\"\n",
    "\n",
    "print(\"\\n--- Conclusión ---\")\n",
    "print(f\"Comparación: Z calculado ({z:.4f}) vs Z crítico ({z_critico_3:.4f})\")\n",
    "print(f\"Valor p vs alfa: {p_valor_3:.4f} vs {desviacion_poblacional}\")\n",
    "print(f\"Decisión: {decision_3}\")\n",
    "\n",
    "# NOTA: el :.4f es para denotar la cantidad de decimales que quise mostrar, en todo los casos fue de 4"
   ]
  },
  {
   "cell_type": "markdown",
   "id": "5f70cb85",
   "metadata": {},
   "source": [
    "#### Conclusion:\n",
    "\n",
    "Dándonos cuenta que, con el nivel de significancia existe evidencia de que el tiempo respecto al año anterior aumentó\n"
   ]
  }
 ],
 "metadata": {
  "kernelspec": {
   "display_name": "Python 3",
   "language": "python",
   "name": "python3"
  },
  "language_info": {
   "codemirror_mode": {
    "name": "ipython",
    "version": 3
   },
   "file_extension": ".py",
   "mimetype": "text/x-python",
   "name": "python",
   "nbconvert_exporter": "python",
   "pygments_lexer": "ipython3",
   "version": "3.13.5"
  }
 },
 "nbformat": 4,
 "nbformat_minor": 5
}

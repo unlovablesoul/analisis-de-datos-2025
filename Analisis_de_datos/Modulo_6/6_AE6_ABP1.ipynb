{
 "cells": [
  {
   "cell_type": "markdown",
   "id": "ed547e1d",
   "metadata": {},
   "source": [
    "# Actividad 1"
   ]
  },
  {
   "cell_type": "code",
   "execution_count": null,
   "id": "921df4bf",
   "metadata": {},
   "outputs": [
    {
     "name": "stdout",
     "output_type": "stream",
     "text": [
      "--- Resultados ---\n",
      "Media muestral: 744.85 kwh\n",
      "Desvío estándar muestral: 49.57 kwh\n",
      "Estadístico t: 2.1516\n",
      "Valor crítico (α=0.10): 1.3277\n",
      "Decisión: Rechazamos H0: hay evidencia de que el consumo es mayor al provincial\n",
      "Valor p: 0.0223\n"
     ]
    }
   ],
   "source": [
    "import numpy as np\n",
    "from scipy import stats\n",
    "\n",
    "# Agrupamos los datos\n",
    "\n",
    "datos = np.array([\n",
    "    710, 774, 814, 768, 823,\n",
    "    732, 675, 755, 770, 660,\n",
    "    654, 757, 736, 677, 797,\n",
    "    760, 718, 774, 747, 796])\n",
    "\n",
    "# Datos conocidos\n",
    "\n",
    "media_poblacional = 721\n",
    "nivel_significancia = 0.1\n",
    "n_datos = len(datos)\n",
    "\n",
    "# Se necesita la media y el desvio muestral\n",
    "\n",
    "media_datos = np.mean(datos)\n",
    "desviacion_datos = np.std(datos, ddof=1)\n",
    "\n",
    "# Ya que no conocemos la desviacion estandar poblacional pero si una muestra pequeña, usamos t\n",
    "\n",
    "t = (media_datos-media_poblacional)/(desviacion_datos/np.sqrt(n_datos))\n",
    "\n",
    "# Ahora calculamos el valor crítico\n",
    "valor_critico = stats.t.ppf(1 - nivel_significancia, df=n-1)\n",
    "\n",
    "# Decisión\n",
    "if t > valor_critico:\n",
    "    decision = \"Rechazamos H0: hay evidencia de que el consumo es mayor al provincial\"\n",
    "else:\n",
    "    decision = \"No rechazamos H0: no hay evidencia suficiente de mayor consumo\"\n",
    "\n",
    "# b) Valor p\n",
    "p_valor = 1 - stats.t.cdf(t, df=n-1)\n",
    "\n",
    "# Resultados\n",
    "print(\"--- Resultados ---\")\n",
    "print(f\"Media muestral: {media_datos:.2f} kwh\")\n",
    "print(f\"Desvío estándar muestral: {desviacion_datos:.2f} kwh\")\n",
    "print(f\"Estadístico t: {t:.4f}\")\n",
    "print(f\"Valor crítico (α=0.10): {valor_critico:.4f}\")\n",
    "print(f\"Decisión: {decision}\")\n",
    "print(f\"Valor p: {p_valor:.4f}\")\n",
    "\n"
   ]
  },
  {
   "cell_type": "markdown",
   "id": "4b01c220",
   "metadata": {},
   "source": [
    "# Actividad 3\n",
    "Queremos evaluar si la proporción de estudiantes universitarios que\n",
    "prefieren el aprendizaje en línea es diferente de 0.60, que es la\n",
    "proporción declarada en un estudio anterior. Tomamos una muestra\n",
    "aleatoria de 200 estudiantes y encontramos que 120 de ellos prefieren\n",
    "el aprendizaje en línea."
   ]
  },
  {
   "cell_type": "code",
   "execution_count": null,
   "id": "ad7096c9",
   "metadata": {},
   "outputs": [],
   "source": []
  }
 ],
 "metadata": {
  "kernelspec": {
   "display_name": "Python 3",
   "language": "python",
   "name": "python3"
  },
  "language_info": {
   "codemirror_mode": {
    "name": "ipython",
    "version": 3
   },
   "file_extension": ".py",
   "mimetype": "text/x-python",
   "name": "python",
   "nbconvert_exporter": "python",
   "pygments_lexer": "ipython3",
   "version": "3.13.5"
  }
 },
 "nbformat": 4,
 "nbformat_minor": 5
}
